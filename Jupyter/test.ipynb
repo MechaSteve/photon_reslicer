{
 "cells": [
  {
   "cell_type": "code",
   "execution_count": 4,
   "metadata": {},
   "outputs": [
    {
     "data": {
      "text/plain": [
       "<matplotlib.image.AxesImage at 0x1e98cb56500>"
      ]
     },
     "execution_count": 4,
     "metadata": {},
     "output_type": "execute_result"
    },
    {
     "data": {
      "image/png": "[encoded data removed]",
      "text/plain": [
       "<Figure size 432x288 with 1 Axes>"
      ]
     },
     "metadata": {
      "needs_background": "light"
     },
     "output_type": "display_data"
    }
   ],
   "source": [
    "import matplotlib.pyplot as plt\n",
    "\n",
    "data = [[0,0,0,0,0.5,0,0,0,0],\n",
    "        [0,0,0,0.5,1,0.5,0,0,0],\n",
    "        [0,0,0,0.5,1,0.5,0,0,0],\n",
    "        [0,0.5,0.5,0.5,1,0.5,0.5,0.5,0],\n",
    "        [0.5,1,1,1,1,1,1,1,0.5],\n",
    "        [0,0.5,0.5,0.5,1,0.5,0.5,0.5,0],\n",
    "        [0,0,0,0.5,1,0.5,0,0,0],\n",
    "        [0,0,0,0.5,1,0.5,0,0,0],\n",
    "        [0,0,0,0,0.5,0,0,0,0]]\n",
    "\n",
    "plt.imshow(data, cmap='gray')"
   ]
  },
  {
   "cell_type": "code",
   "execution_count": 7,
   "metadata": {},
   "outputs": [
    {
     "name": "stdout",
     "output_type": "stream",
     "text": [
      "{1, 2, 3, 4, 5}\n",
      "{5}\n",
      "{1, 2, 3, 4}\n"
     ]
    }
   ],
   "source": [
    "S1 = {1,3,5}\n",
    "S2 = {2,4,5}\n",
    "\n",
    "print(S1|S2) # {1, 2, 3, 4, 5}\n",
    "print(S1&S2) # {5}\n",
    "print(S1^S2) # {1, 2, 3, 4}"
   ]
  }
 ],
 "metadata": {
  "interpreter": {
   "hash": "385641275f21d8b0faa4015390526835ed8a566dee2325f1803c53afba31ba44"
  },
  "kernelspec": {
   "display_name": "Python 3.10.4 ('venv': venv)",
   "language": "python",
   "name": "python3"
  },
  "language_info": {
   "codemirror_mode": {
    "name": "ipython",
    "version": 3
   },
   "file_extension": ".py",
   "mimetype": "text/x-python",
   "name": "python",
   "nbconvert_exporter": "python",
   "pygments_lexer": "ipython3",
   "version": "3.10.4"
  },
  "orig_nbformat": 4
 },
 "nbformat": 4,
 "nbformat_minor": 2
}
